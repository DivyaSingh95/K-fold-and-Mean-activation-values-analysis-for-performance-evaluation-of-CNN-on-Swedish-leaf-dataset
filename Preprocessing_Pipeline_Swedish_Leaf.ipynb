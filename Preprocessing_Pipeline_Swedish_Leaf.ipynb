{
  "nbformat": 4,
  "nbformat_minor": 0,
  "metadata": {
    "colab": {
      "name": "Preprocessing Pipeline Swedish Leaf",
      "provenance": [],
      "collapsed_sections": []
    },
    "kernelspec": {
      "name": "python3",
      "display_name": "Python 3"
    }
  },
  "cells": [
    {
      "cell_type": "code",
      "metadata": {
        "id": "c7MfD5C46flH",
        "colab_type": "code",
        "colab": {
          "base_uri": "https://localhost:8080/",
          "height": 122
        },
        "outputId": "b321fae6-db4e-43da-80b6-4ada367670f5"
      },
      "source": [
        "from google.colab import drive\n",
        "drive.mount('/content/drive')"
      ],
      "execution_count": null,
      "outputs": [
        {
          "output_type": "stream",
          "text": [
            "Go to this URL in a browser: https://accounts.google.com/o/oauth2/auth?client_id=947318989803-6bn6qk8qdgf4n4g3pfee6491hc0brc4i.apps.googleusercontent.com&redirect_uri=urn%3aietf%3awg%3aoauth%3a2.0%3aoob&response_type=code&scope=email%20https%3a%2f%2fwww.googleapis.com%2fauth%2fdocs.test%20https%3a%2f%2fwww.googleapis.com%2fauth%2fdrive%20https%3a%2f%2fwww.googleapis.com%2fauth%2fdrive.photos.readonly%20https%3a%2f%2fwww.googleapis.com%2fauth%2fpeopleapi.readonly\n",
            "\n",
            "Enter your authorization code:\n",
            "··········\n",
            "Mounted at /content/drive\n"
          ],
          "name": "stdout"
        }
      ]
    },
    {
      "cell_type": "code",
      "metadata": {
        "id": "7H5---Ph7oAT",
        "colab_type": "code",
        "colab": {}
      },
      "source": [
        "import imageio\n",
        "import os\n",
        "import cv2"
      ],
      "execution_count": null,
      "outputs": []
    },
    {
      "cell_type": "code",
      "metadata": {
        "id": "qhkRtgdL9GHJ",
        "colab_type": "code",
        "colab": {
          "base_uri": "https://localhost:8080/",
          "height": 34
        },
        "outputId": "c431f07a-f2e5-41f5-ede7-ce3afa87ccb6"
      },
      "source": [
        "%cd 'drive/My Drive'"
      ],
      "execution_count": null,
      "outputs": [
        {
          "output_type": "stream",
          "text": [
            "/content/drive/My Drive\n"
          ],
          "name": "stdout"
        }
      ]
    },
    {
      "cell_type": "code",
      "metadata": {
        "id": "I5vbm2mhShCN",
        "colab_type": "code",
        "colab": {}
      },
      "source": [
        "wor='Local Folder'"
      ],
      "execution_count": null,
      "outputs": []
    },
    {
      "cell_type": "code",
      "metadata": {
        "id": "5oTQdVCo76om",
        "colab_type": "code",
        "colab": {}
      },
      "source": [
        "folder_path=os.path.join(wor,'leaf15')\n",
        "dst_folder_path='local/leaf15'"
      ],
      "execution_count": null,
      "outputs": []
    },
    {
      "cell_type": "code",
      "metadata": {
        "id": "sOB4Y1Y48kOm",
        "colab_type": "code",
        "colab": {}
      },
      "source": [
        "images_path=os.listdir(folder_path)\n",
        "index=0"
      ],
      "execution_count": null,
      "outputs": []
    },
    {
      "cell_type": "code",
      "metadata": {
        "id": "CjgsA6Y_8v9a",
        "colab_type": "code",
        "colab": {}
      },
      "source": [
        "for n,image in enumerate(images_path):\n",
        "  src=os.path.join(folder_path,image)\n",
        "  img=imageio.imread(src)\n",
        "  img=cv2.resize(img,(128,128),interpolation=cv2.INTER_AREA)\n",
        "  dst=os.path.join(dst_folder_path,image)\n",
        "  imageio.imwrite(dst,img)"
      ],
      "execution_count": null,
      "outputs": []
    },
    {
      "cell_type": "code",
      "metadata": {
        "id": "JgOr48nSOFwM",
        "colab_type": "code",
        "colab": {
          "base_uri": "https://localhost:8080/",
          "height": 173
        },
        "outputId": "a46d6ce0-59af-4a7d-e5a4-1c7fb61d1f26"
      },
      "source": [
        "!pip install Augmentor"
      ],
      "execution_count": null,
      "outputs": [
        {
          "output_type": "stream",
          "text": [
            "Collecting Augmentor\n",
            "  Downloading https://files.pythonhosted.org/packages/cb/79/861f38d5830cff631e30e33b127076bfef8ac98171e51daa06df0118c75f/Augmentor-0.2.8-py2.py3-none-any.whl\n",
            "Requirement already satisfied: numpy>=1.11.0 in /usr/local/lib/python3.6/dist-packages (from Augmentor) (1.18.5)\n",
            "Requirement already satisfied: tqdm>=4.9.0 in /usr/local/lib/python3.6/dist-packages (from Augmentor) (4.41.1)\n",
            "Requirement already satisfied: future>=0.16.0 in /usr/local/lib/python3.6/dist-packages (from Augmentor) (0.16.0)\n",
            "Requirement already satisfied: Pillow>=5.2.0 in /usr/local/lib/python3.6/dist-packages (from Augmentor) (7.0.0)\n",
            "Installing collected packages: Augmentor\n",
            "Successfully installed Augmentor-0.2.8\n"
          ],
          "name": "stdout"
        }
      ]
    },
    {
      "cell_type": "code",
      "metadata": {
        "id": "UMdWf9qZ9YUa",
        "colab_type": "code",
        "colab": {
          "base_uri": "https://localhost:8080/",
          "height": 51
        },
        "outputId": "14b55942-49dd-460a-c652-e1b5b4919553"
      },
      "source": [
        "import Augmentor\n",
        "p=Augmentor.Pipeline(\"local/leaf15\")"
      ],
      "execution_count": null,
      "outputs": [
        {
          "output_type": "stream",
          "text": [
            "Initialised with 75 image(s) found.\n",
            "Output directory set to local/leaf15/output."
          ],
          "name": "stdout"
        }
      ]
    },
    {
      "cell_type": "code",
      "metadata": {
        "id": "qQib8xRFOAAN",
        "colab_type": "code",
        "colab": {}
      },
      "source": [
        "p.skew_left_right(0.3)\n",
        "p.skew_top_bottom(0.7)\n",
        "p.rotate_random_90(0.5)\n",
        "p.zoom(probability=0.3, min_factor=1.1, max_factor=1.6)\n",
        "p.random_brightness(0.2,min_factor=0.8,max_factor=1.8)"
      ],
      "execution_count": null,
      "outputs": []
    },
    {
      "cell_type": "code",
      "metadata": {
        "id": "t5hc8zh6RMAE",
        "colab_type": "code",
        "colab": {
          "base_uri": "https://localhost:8080/",
          "height": 34
        },
        "outputId": "32415a6a-7a28-4536-9ee8-17b5e7adf637"
      },
      "source": [
        "p.sample(400)"
      ],
      "execution_count": null,
      "outputs": [
        {
          "output_type": "stream",
          "text": [
            "Processing <PIL.Image.Image image mode=RGB size=128x128 at 0x7F01C2081198>: 100%|██████████| 400/400 [00:04<00:00, 83.02 Samples/s]\n"
          ],
          "name": "stderr"
        }
      ]
    },
    {
      "cell_type": "code",
      "metadata": {
        "id": "7tqjW06IRrIm",
        "colab_type": "code",
        "colab": {}
      },
      "source": [
        "folder_path='Swedish/Leaf15/output'\n",
        "dst_folder_path='Swedish/Leaf15'"
      ],
      "execution_count": null,
      "outputs": []
    },
    {
      "cell_type": "code",
      "metadata": {
        "id": "cUrnjDlR1tjs",
        "colab_type": "code",
        "colab": {}
      },
      "source": [
        "images_path=os.listdir(folder_path)\n",
        "index=0"
      ],
      "execution_count": null,
      "outputs": []
    },
    {
      "cell_type": "code",
      "metadata": {
        "id": "PviADYtU12AB",
        "colab_type": "code",
        "colab": {}
      },
      "source": [
        "for n,image in enumerate(images_path):\n",
        "  src=os.path.join(folder_path,image)\n",
        "  img=imageio.imread(src)\n",
        "  dst=os.path.join(dst_folder_path,image)\n",
        "  imageio.imwrite(dst,img)"
      ],
      "execution_count": null,
      "outputs": []
    },
    {
      "cell_type": "code",
      "metadata": {
        "id": "MgDT3IwF2aTJ",
        "colab_type": "code",
        "colab": {}
      },
      "source": [
        ""
      ],
      "execution_count": null,
      "outputs": []
    }
  ]
}